{
 "cells": [
  {
   "cell_type": "code",
   "execution_count": 1,
   "id": "eca91553",
   "metadata": {
    "_cell_guid": "b1076dfc-b9ad-4769-8c92-a6c4dae69d19",
    "_uuid": "8f2839f25d086af736a60e9eeb907d3b93b6e0e5",
    "execution": {
     "iopub.execute_input": "2022-10-30T12:37:44.823019Z",
     "iopub.status.busy": "2022-10-30T12:37:44.821647Z",
     "iopub.status.idle": "2022-10-30T12:38:00.047989Z",
     "shell.execute_reply": "2022-10-30T12:38:00.046911Z"
    },
    "papermill": {
     "duration": 15.234982,
     "end_time": "2022-10-30T12:38:00.050677",
     "exception": false,
     "start_time": "2022-10-30T12:37:44.815695",
     "status": "completed"
    },
    "tags": []
   },
   "outputs": [
    {
     "name": "stdout",
     "output_type": "stream",
     "text": [
      "Defaulting to user installation because normal site-packages is not writeable\n",
      "Requirement already satisfied: implicit in /Users/philipyao/Library/Python/3.9/lib/python/site-packages (0.7.2)\n",
      "Requirement already satisfied: numpy>=1.17.0 in /Users/philipyao/Library/Python/3.9/lib/python/site-packages (from implicit) (1.26.0)\n",
      "Requirement already satisfied: scipy>=0.16 in /Users/philipyao/Library/Python/3.9/lib/python/site-packages (from implicit) (1.11.3)\n",
      "Requirement already satisfied: tqdm>=4.27 in /Users/philipyao/Library/Python/3.9/lib/python/site-packages (from implicit) (4.66.1)\n",
      "Requirement already satisfied: threadpoolctl in /Users/philipyao/Library/Python/3.9/lib/python/site-packages (from implicit) (3.2.0)\n",
      "Note: you may need to restart the kernel to use updated packages.\n"
     ]
    }
   ],
   "source": [
    "%pip install -U implicit\n",
    "import pandas as pd\n",
    "import numpy as np\n",
    "from scipy.sparse import coo_matrix\n",
    "from implicit.als import AlternatingLeastSquares\n",
    "from implicit.evaluation import mean_average_precision_at_k\n",
    "import matplotlib.image as mpimg\n",
    "import matplotlib.pyplot as plt\n"
   ]
  },
  {
   "cell_type": "code",
   "execution_count": 69,
   "id": "c41d4bcd",
   "metadata": {
    "execution": {
     "iopub.execute_input": "2022-10-30T12:38:00.064651Z",
     "iopub.status.busy": "2022-10-30T12:38:00.064339Z",
     "iopub.status.idle": "2022-10-30T12:39:19.117843Z",
     "shell.execute_reply": "2022-10-30T12:39:19.116743Z"
    },
    "papermill": {
     "duration": 79.063207,
     "end_time": "2022-10-30T12:39:19.120496",
     "exception": false,
     "start_time": "2022-10-30T12:38:00.057289",
     "status": "completed"
    },
    "tags": []
   },
   "outputs": [
    {
     "data": {
      "text/html": [
       "<div>\n",
       "<style scoped>\n",
       "    .dataframe tbody tr th:only-of-type {\n",
       "        vertical-align: middle;\n",
       "    }\n",
       "\n",
       "    .dataframe tbody tr th {\n",
       "        vertical-align: top;\n",
       "    }\n",
       "\n",
       "    .dataframe thead th {\n",
       "        text-align: right;\n",
       "    }\n",
       "</style>\n",
       "<table border=\"1\" class=\"dataframe\">\n",
       "  <thead>\n",
       "    <tr style=\"text-align: right;\">\n",
       "      <th></th>\n",
       "      <th>t_dat</th>\n",
       "      <th>customer_id</th>\n",
       "      <th>article_id</th>\n",
       "      <th>price</th>\n",
       "      <th>sales_channel_id</th>\n",
       "    </tr>\n",
       "  </thead>\n",
       "  <tbody>\n",
       "    <tr>\n",
       "      <th>0</th>\n",
       "      <td>2018-09-20</td>\n",
       "      <td>000058a12d5b43e67d225668fa1f8d618c13dc232df0ca...</td>\n",
       "      <td>0663713001</td>\n",
       "      <td>0.050831</td>\n",
       "      <td>2</td>\n",
       "    </tr>\n",
       "    <tr>\n",
       "      <th>1</th>\n",
       "      <td>2018-09-20</td>\n",
       "      <td>000058a12d5b43e67d225668fa1f8d618c13dc232df0ca...</td>\n",
       "      <td>0541518023</td>\n",
       "      <td>0.030492</td>\n",
       "      <td>2</td>\n",
       "    </tr>\n",
       "    <tr>\n",
       "      <th>2</th>\n",
       "      <td>2018-09-20</td>\n",
       "      <td>00007d2de826758b65a93dd24ce629ed66842531df6699...</td>\n",
       "      <td>0505221004</td>\n",
       "      <td>0.015237</td>\n",
       "      <td>2</td>\n",
       "    </tr>\n",
       "    <tr>\n",
       "      <th>3</th>\n",
       "      <td>2018-09-20</td>\n",
       "      <td>00007d2de826758b65a93dd24ce629ed66842531df6699...</td>\n",
       "      <td>0685687003</td>\n",
       "      <td>0.016932</td>\n",
       "      <td>2</td>\n",
       "    </tr>\n",
       "    <tr>\n",
       "      <th>4</th>\n",
       "      <td>2018-09-20</td>\n",
       "      <td>00007d2de826758b65a93dd24ce629ed66842531df6699...</td>\n",
       "      <td>0685687004</td>\n",
       "      <td>0.016932</td>\n",
       "      <td>2</td>\n",
       "    </tr>\n",
       "    <tr>\n",
       "      <th>5</th>\n",
       "      <td>2018-09-20</td>\n",
       "      <td>00007d2de826758b65a93dd24ce629ed66842531df6699...</td>\n",
       "      <td>0685687001</td>\n",
       "      <td>0.016932</td>\n",
       "      <td>2</td>\n",
       "    </tr>\n",
       "    <tr>\n",
       "      <th>6</th>\n",
       "      <td>2018-09-20</td>\n",
       "      <td>00007d2de826758b65a93dd24ce629ed66842531df6699...</td>\n",
       "      <td>0505221001</td>\n",
       "      <td>0.020322</td>\n",
       "      <td>2</td>\n",
       "    </tr>\n",
       "    <tr>\n",
       "      <th>7</th>\n",
       "      <td>2018-09-20</td>\n",
       "      <td>00083cda041544b2fbb0e0d2905ad17da7cf1007526fb4...</td>\n",
       "      <td>0688873012</td>\n",
       "      <td>0.030492</td>\n",
       "      <td>1</td>\n",
       "    </tr>\n",
       "    <tr>\n",
       "      <th>8</th>\n",
       "      <td>2018-09-20</td>\n",
       "      <td>00083cda041544b2fbb0e0d2905ad17da7cf1007526fb4...</td>\n",
       "      <td>0501323011</td>\n",
       "      <td>0.053373</td>\n",
       "      <td>1</td>\n",
       "    </tr>\n",
       "    <tr>\n",
       "      <th>9</th>\n",
       "      <td>2018-09-20</td>\n",
       "      <td>00083cda041544b2fbb0e0d2905ad17da7cf1007526fb4...</td>\n",
       "      <td>0598859003</td>\n",
       "      <td>0.045746</td>\n",
       "      <td>2</td>\n",
       "    </tr>\n",
       "  </tbody>\n",
       "</table>\n",
       "</div>"
      ],
      "text/plain": [
       "       t_dat                                        customer_id  article_id  \\\n",
       "0 2018-09-20  000058a12d5b43e67d225668fa1f8d618c13dc232df0ca...  0663713001   \n",
       "1 2018-09-20  000058a12d5b43e67d225668fa1f8d618c13dc232df0ca...  0541518023   \n",
       "2 2018-09-20  00007d2de826758b65a93dd24ce629ed66842531df6699...  0505221004   \n",
       "3 2018-09-20  00007d2de826758b65a93dd24ce629ed66842531df6699...  0685687003   \n",
       "4 2018-09-20  00007d2de826758b65a93dd24ce629ed66842531df6699...  0685687004   \n",
       "5 2018-09-20  00007d2de826758b65a93dd24ce629ed66842531df6699...  0685687001   \n",
       "6 2018-09-20  00007d2de826758b65a93dd24ce629ed66842531df6699...  0505221001   \n",
       "7 2018-09-20  00083cda041544b2fbb0e0d2905ad17da7cf1007526fb4...  0688873012   \n",
       "8 2018-09-20  00083cda041544b2fbb0e0d2905ad17da7cf1007526fb4...  0501323011   \n",
       "9 2018-09-20  00083cda041544b2fbb0e0d2905ad17da7cf1007526fb4...  0598859003   \n",
       "\n",
       "      price  sales_channel_id  \n",
       "0  0.050831                 2  \n",
       "1  0.030492                 2  \n",
       "2  0.015237                 2  \n",
       "3  0.016932                 2  \n",
       "4  0.016932                 2  \n",
       "5  0.016932                 2  \n",
       "6  0.020322                 2  \n",
       "7  0.030492                 1  \n",
       "8  0.053373                 1  \n",
       "9  0.045746                 2  "
      ]
     },
     "execution_count": 69,
     "metadata": {},
     "output_type": "execute_result"
    }
   ],
   "source": [
    "#Takes 30 seconds to run\n",
    "# Download manually from here: https://www.kaggle.com/competitions/h-and-m-personalized-fashion-recommendations/data?select=transactions_train.csv\n",
    "# And https://www.kaggle.com/competitions/h-and-m-personalized-fashion-recommendations/data?select=articles.csv\n",
    "# Load article dataset\n",
    "article_df = pd.read_csv(\"~/Downloads/articles.csv\")\n",
    "\n",
    "tx = pd.read_csv(\"~/Downloads/transactions_train.csv\", encoding=\"utf-8\", dtype={'article_id': str}, parse_dates=['t_dat'])\n",
    "tx.head(10)"
   ]
  },
  {
   "cell_type": "code",
   "execution_count": 113,
   "id": "47f92f40",
   "metadata": {},
   "outputs": [
    {
     "name": "stdout",
     "output_type": "stream",
     "text": [
      "31788324\n",
      "376104\n"
     ]
    }
   ],
   "source": [
    "# For the sake of compute time, we will significantly reduce our dataset:\n",
    "print(len(tx))\n",
    "cut_all_before = tx['t_dat'].max() - pd.Timedelta(days=10)\n",
    "tx = tx[(tx['t_dat'] >= cut_all_before)]\n",
    "df = tx\n",
    "print(len(tx))"
   ]
  },
  {
   "cell_type": "code",
   "execution_count": 115,
   "id": "4a2430da",
   "metadata": {
    "execution": {
     "iopub.execute_input": "2022-10-30T12:39:19.134450Z",
     "iopub.status.busy": "2022-10-30T12:39:19.134131Z",
     "iopub.status.idle": "2022-10-30T12:39:30.936165Z",
     "shell.execute_reply": "2022-10-30T12:39:30.935105Z"
    },
    "papermill": {
     "duration": 11.811365,
     "end_time": "2022-10-30T12:39:30.938572",
     "exception": false,
     "start_time": "2022-10-30T12:39:19.127207",
     "status": "completed"
    },
    "tags": []
   },
   "outputs": [
    {
     "name": "stdout",
     "output_type": "stream",
     "text": [
      "              t_dat  customer_id  article_id     price  sales_channel_id  ITEM\n",
      "31412220 2020-09-12            0  0640021012  0.050831                 2     0\n",
      "31412221 2020-09-12            0  0621381012  0.033881                 2     1\n",
      "31412222 2020-09-12            0  0880017001  0.025407                 2     2\n",
      "31412223 2020-09-12            0  0880017001  0.025407                 2     2\n",
      "31412224 2020-09-12            1  0875272011  0.050831                 2     3\n",
      "31412225 2020-09-12            1  0875272012  0.050831                 2     4\n",
      "31412226 2020-09-12            2  0929744001  0.042356                 2     5\n",
      "31412227 2020-09-12            2  0865799005  0.033881                 2     6\n",
      "31412228 2020-09-12            2  0456163060  0.033881                 2     7\n",
      "31412229 2020-09-12            2  0933989002  0.042356                 2     8\n"
     ]
    }
   ],
   "source": [
    "# replace user id and article id with unique integer for indexing the collaborative filter matrix\n",
    "USERS = df.customer_id.unique().tolist()\n",
    "ITEMS = df.article_id.unique().tolist()\n",
    "\n",
    "USER_IDS = dict(list(enumerate(USERS)))\n",
    "ITEM_IDS = dict(list(enumerate(ITEMS)))\n",
    "\n",
    "USER_MAP = {u: uidx for uidx, u in USER_IDS.items()}\n",
    "ITEM_MAP = {i: iidx for iidx, i in ITEM_IDS.items()}\n",
    "\n",
    "df['customer_id'] = df['customer_id'].map(USER_MAP)\n",
    "df['ITEM'] = df['article_id'].map(ITEM_MAP)\n",
    "print(df.head(10))\n"
   ]
  },
  {
   "cell_type": "code",
   "execution_count": 116,
   "id": "689e0d6c",
   "metadata": {},
   "outputs": [
    {
     "name": "stdout",
     "output_type": "stream",
     "text": [
      "20902 101147\n"
     ]
    }
   ],
   "source": [
    "print(len(ITEMS), len(USERS))"
   ]
  },
  {
   "cell_type": "code",
   "execution_count": 117,
   "id": "0e87e950",
   "metadata": {},
   "outputs": [
    {
     "name": "stdout",
     "output_type": "stream",
     "text": [
      "242823 133281\n"
     ]
    }
   ],
   "source": [
    "# Let's partition 3 days of data into the validation dataset and rest into training\n",
    "validation_cut = df['t_dat'].max() - pd.Timedelta(days=3)\n",
    "\n",
    "df_train = df[(df['t_dat'] < validation_cut)]\n",
    "df_val = df[df['t_dat'] >= validation_cut]\n",
    "print(len(df_train), len(df_val))"
   ]
  },
  {
   "cell_type": "code",
   "execution_count": 118,
   "id": "030e6936",
   "metadata": {},
   "outputs": [],
   "source": [
    "# Create sparse matrix. Rows are customers, columns are items. \n",
    "# A 1 in position x,y indicates customer x purchased item y\n",
    "\n",
    "row = df_train['customer_id'].values\n",
    "col = df_train['ITEM'].values\n",
    "data = np.ones(df_train.shape[0])\n",
    "s_train = coo_matrix((data, (row, col)), shape=(len(USERS), len(ITEMS))).tocsr()\n",
    "\n",
    "\n",
    "row = df_val['customer_id'].values\n",
    "col = df_val['ITEM'].values\n",
    "data = np.ones(df_val.shape[0])\n",
    "s_val = coo_matrix((data, (row, col)), shape=(len(USERS), len(ITEMS))).tocsr()\n"
   ]
  },
  {
   "cell_type": "code",
   "execution_count": 119,
   "id": "2baa28d0",
   "metadata": {},
   "outputs": [
    {
     "data": {
      "application/vnd.jupyter.widget-view+json": {
       "model_id": "4fef08d6624548b59bad21500eca55bb",
       "version_major": 2,
       "version_minor": 0
      },
      "text/plain": [
       "  0%|          | 0/12 [00:00<?, ?it/s]"
      ]
     },
     "metadata": {},
     "output_type": "display_data"
    }
   ],
   "source": [
    "# 1 minute.\n",
    "model = AlternatingLeastSquares(factors= 60, iterations=12, regularization=0.01)\n",
    "model.fit(s_train)\n"
   ]
  },
  {
   "cell_type": "code",
   "execution_count": 120,
   "id": "a8436e6e",
   "metadata": {},
   "outputs": [
    {
     "data": {
      "application/vnd.jupyter.widget-view+json": {
       "model_id": "95409e3d29cb4f72a1571a6015961654",
       "version_major": 2,
       "version_minor": 0
      },
      "text/plain": [
       "  0%|          | 0/39843 [00:00<?, ?it/s]"
      ]
     },
     "metadata": {},
     "output_type": "display_data"
    },
    {
     "name": "stdout",
     "output_type": "stream",
     "text": [
      "0.0059512877006151115\n"
     ]
    }
   ],
   "source": [
    "map12 = mean_average_precision_at_k(model, s_train, s_val, K=12)\n",
    "print(map12)"
   ]
  },
  {
   "cell_type": "code",
   "execution_count": 59,
   "id": "865b9e51",
   "metadata": {
    "execution": {
     "iopub.execute_input": "2022-10-30T12:39:36.846860Z",
     "iopub.status.busy": "2022-10-30T12:39:36.846550Z",
     "iopub.status.idle": "2022-10-30T12:39:36.855827Z",
     "shell.execute_reply": "2022-10-30T12:39:36.854855Z"
    },
    "papermill": {
     "duration": 0.01831,
     "end_time": "2022-10-30T12:39:36.857879",
     "exception": false,
     "start_time": "2022-10-30T12:39:36.839569",
     "status": "completed"
    },
    "tags": []
   },
   "outputs": [
    {
     "data": {
      "application/vnd.jupyter.widget-view+json": {
       "model_id": "cceebeb916e94d36a6011fd5f071cf7f",
       "version_major": 2,
       "version_minor": 0
      },
      "text/plain": [
       "  0%|          | 0/3 [00:00<?, ?it/s]"
      ]
     },
     "metadata": {},
     "output_type": "display_data"
    },
    {
     "data": {
      "application/vnd.jupyter.widget-view+json": {
       "model_id": "7c39d7cb4e0742e2ad768d5d8c4886c8",
       "version_major": 2,
       "version_minor": 0
      },
      "text/plain": [
       "  0%|          | 0/39843 [00:00<?, ?it/s]"
      ]
     },
     "metadata": {},
     "output_type": "display_data"
    },
    {
     "name": "stdout",
     "output_type": "stream",
     "text": [
      "0.0018621606172493828 40 3 0.01\n",
      "Best MAP@12 found. Updating: {'factors': 40, 'iterations': 3, 'regularization': 0.01}\n"
     ]
    },
    {
     "data": {
      "application/vnd.jupyter.widget-view+json": {
       "model_id": "431f6db0d49f48bb9c63b3c85b816c28",
       "version_major": 2,
       "version_minor": 0
      },
      "text/plain": [
       "  0%|          | 0/12 [00:00<?, ?it/s]"
      ]
     },
     "metadata": {},
     "output_type": "display_data"
    },
    {
     "data": {
      "application/vnd.jupyter.widget-view+json": {
       "model_id": "efc1a10443d840ad850a87d16360182c",
       "version_major": 2,
       "version_minor": 0
      },
      "text/plain": [
       "  0%|          | 0/39843 [00:00<?, ?it/s]"
      ]
     },
     "metadata": {},
     "output_type": "display_data"
    },
    {
     "name": "stdout",
     "output_type": "stream",
     "text": [
      "0.0020898579406907637 40 12 0.01\n",
      "Best MAP@12 found. Updating: {'factors': 40, 'iterations': 12, 'regularization': 0.01}\n"
     ]
    },
    {
     "data": {
      "application/vnd.jupyter.widget-view+json": {
       "model_id": "4130f95eef984fc2aef066b927ab2e55",
       "version_major": 2,
       "version_minor": 0
      },
      "text/plain": [
       "  0%|          | 0/14 [00:00<?, ?it/s]"
      ]
     },
     "metadata": {},
     "output_type": "display_data"
    },
    {
     "data": {
      "application/vnd.jupyter.widget-view+json": {
       "model_id": "a730eb399b7a401b8550ba5bd849728b",
       "version_major": 2,
       "version_minor": 0
      },
      "text/plain": [
       "  0%|          | 0/39843 [00:00<?, ?it/s]"
      ]
     },
     "metadata": {},
     "output_type": "display_data"
    },
    {
     "name": "stdout",
     "output_type": "stream",
     "text": [
      "0.0021225378464011318 40 14 0.01\n",
      "Best MAP@12 found. Updating: {'factors': 40, 'iterations': 14, 'regularization': 0.01}\n"
     ]
    },
    {
     "data": {
      "application/vnd.jupyter.widget-view+json": {
       "model_id": "b17db583ab54452fbcb215d8f020b654",
       "version_major": 2,
       "version_minor": 0
      },
      "text/plain": [
       "  0%|          | 0/15 [00:00<?, ?it/s]"
      ]
     },
     "metadata": {},
     "output_type": "display_data"
    },
    {
     "data": {
      "application/vnd.jupyter.widget-view+json": {
       "model_id": "ac0ef3dd66c448cf9fd4a871c5ba9a2c",
       "version_major": 2,
       "version_minor": 0
      },
      "text/plain": [
       "  0%|          | 0/39843 [00:00<?, ?it/s]"
      ]
     },
     "metadata": {},
     "output_type": "display_data"
    },
    {
     "name": "stdout",
     "output_type": "stream",
     "text": [
      "0.0021500889354063735 40 15 0.01\n",
      "Best MAP@12 found. Updating: {'factors': 40, 'iterations': 15, 'regularization': 0.01}\n"
     ]
    },
    {
     "data": {
      "application/vnd.jupyter.widget-view+json": {
       "model_id": "e5e472967040429986c02cb79407a192",
       "version_major": 2,
       "version_minor": 0
      },
      "text/plain": [
       "  0%|          | 0/20 [00:00<?, ?it/s]"
      ]
     },
     "metadata": {},
     "output_type": "display_data"
    },
    {
     "data": {
      "application/vnd.jupyter.widget-view+json": {
       "model_id": "a082aa17b5e14663ab6ce71a6f7ad21d",
       "version_major": 2,
       "version_minor": 0
      },
      "text/plain": [
       "  0%|          | 0/39843 [00:00<?, ?it/s]"
      ]
     },
     "metadata": {},
     "output_type": "display_data"
    },
    {
     "name": "stdout",
     "output_type": "stream",
     "text": [
      "0.0021409801446639516 40 20 0.01\n"
     ]
    },
    {
     "data": {
      "application/vnd.jupyter.widget-view+json": {
       "model_id": "1d776ab3c882406cbf9443a29c34d264",
       "version_major": 2,
       "version_minor": 0
      },
      "text/plain": [
       "  0%|          | 0/3 [00:00<?, ?it/s]"
      ]
     },
     "metadata": {},
     "output_type": "display_data"
    },
    {
     "data": {
      "application/vnd.jupyter.widget-view+json": {
       "model_id": "40f3f0d6d9154bf0a3841bc75d8dee9c",
       "version_major": 2,
       "version_minor": 0
      },
      "text/plain": [
       "  0%|          | 0/39843 [00:00<?, ?it/s]"
      ]
     },
     "metadata": {},
     "output_type": "display_data"
    },
    {
     "name": "stdout",
     "output_type": "stream",
     "text": [
      "0.0018312644853235788 50 3 0.01\n"
     ]
    },
    {
     "data": {
      "application/vnd.jupyter.widget-view+json": {
       "model_id": "a06154a35ea342d398c9088c81a66e13",
       "version_major": 2,
       "version_minor": 0
      },
      "text/plain": [
       "  0%|          | 0/12 [00:00<?, ?it/s]"
      ]
     },
     "metadata": {},
     "output_type": "display_data"
    },
    {
     "data": {
      "application/vnd.jupyter.widget-view+json": {
       "model_id": "6434f598489547f39d5005f5d47ffa15",
       "version_major": 2,
       "version_minor": 0
      },
      "text/plain": [
       "  0%|          | 0/39843 [00:00<?, ?it/s]"
      ]
     },
     "metadata": {},
     "output_type": "display_data"
    },
    {
     "name": "stdout",
     "output_type": "stream",
     "text": [
      "0.002315525731637842 50 12 0.01\n",
      "Best MAP@12 found. Updating: {'factors': 50, 'iterations': 12, 'regularization': 0.01}\n"
     ]
    },
    {
     "data": {
      "application/vnd.jupyter.widget-view+json": {
       "model_id": "765d58be58214550a0101aed3c823cc4",
       "version_major": 2,
       "version_minor": 0
      },
      "text/plain": [
       "  0%|          | 0/14 [00:00<?, ?it/s]"
      ]
     },
     "metadata": {},
     "output_type": "display_data"
    },
    {
     "data": {
      "application/vnd.jupyter.widget-view+json": {
       "model_id": "7453c9b587fe489db1acbc5e4abf87e1",
       "version_major": 2,
       "version_minor": 0
      },
      "text/plain": [
       "  0%|          | 0/39843 [00:00<?, ?it/s]"
      ]
     },
     "metadata": {},
     "output_type": "display_data"
    },
    {
     "name": "stdout",
     "output_type": "stream",
     "text": [
      "0.002246585246497552 50 14 0.01\n"
     ]
    },
    {
     "data": {
      "application/vnd.jupyter.widget-view+json": {
       "model_id": "fa0ca40bfb4b491ebf172c8eda970fba",
       "version_major": 2,
       "version_minor": 0
      },
      "text/plain": [
       "  0%|          | 0/15 [00:00<?, ?it/s]"
      ]
     },
     "metadata": {},
     "output_type": "display_data"
    },
    {
     "data": {
      "application/vnd.jupyter.widget-view+json": {
       "model_id": "168fea778edf4ef8a9f7c50356ac4bf2",
       "version_major": 2,
       "version_minor": 0
      },
      "text/plain": [
       "  0%|          | 0/39843 [00:00<?, ?it/s]"
      ]
     },
     "metadata": {},
     "output_type": "display_data"
    },
    {
     "name": "stdout",
     "output_type": "stream",
     "text": [
      "0.0021981560312543122 50 15 0.01\n"
     ]
    },
    {
     "data": {
      "application/vnd.jupyter.widget-view+json": {
       "model_id": "b0e3900a491043ceac13b7f868226bdf",
       "version_major": 2,
       "version_minor": 0
      },
      "text/plain": [
       "  0%|          | 0/20 [00:00<?, ?it/s]"
      ]
     },
     "metadata": {},
     "output_type": "display_data"
    },
    {
     "data": {
      "application/vnd.jupyter.widget-view+json": {
       "model_id": "ea342259d9604998abb1f3d066927f01",
       "version_major": 2,
       "version_minor": 0
      },
      "text/plain": [
       "  0%|          | 0/39843 [00:00<?, ?it/s]"
      ]
     },
     "metadata": {},
     "output_type": "display_data"
    },
    {
     "name": "stdout",
     "output_type": "stream",
     "text": [
      "0.0022292905433562893 50 20 0.01\n"
     ]
    },
    {
     "data": {
      "application/vnd.jupyter.widget-view+json": {
       "model_id": "089d65eea0d24d78bcbc698e3879d4f7",
       "version_major": 2,
       "version_minor": 0
      },
      "text/plain": [
       "  0%|          | 0/3 [00:00<?, ?it/s]"
      ]
     },
     "metadata": {},
     "output_type": "display_data"
    },
    {
     "data": {
      "application/vnd.jupyter.widget-view+json": {
       "model_id": "81141337d2014b8185693bbbaf515a7c",
       "version_major": 2,
       "version_minor": 0
      },
      "text/plain": [
       "  0%|          | 0/39843 [00:00<?, ?it/s]"
      ]
     },
     "metadata": {},
     "output_type": "display_data"
    },
    {
     "name": "stdout",
     "output_type": "stream",
     "text": [
      "0.0019970714826944656 60 3 0.01\n"
     ]
    },
    {
     "data": {
      "application/vnd.jupyter.widget-view+json": {
       "model_id": "88d28467976f4b68b38082d3112f151f",
       "version_major": 2,
       "version_minor": 0
      },
      "text/plain": [
       "  0%|          | 0/12 [00:00<?, ?it/s]"
      ]
     },
     "metadata": {},
     "output_type": "display_data"
    },
    {
     "data": {
      "application/vnd.jupyter.widget-view+json": {
       "model_id": "aa413a4a3cf24ff49e9df03dbc10ee6d",
       "version_major": 2,
       "version_minor": 0
      },
      "text/plain": [
       "  0%|          | 0/39843 [00:00<?, ?it/s]"
      ]
     },
     "metadata": {},
     "output_type": "display_data"
    },
    {
     "name": "stdout",
     "output_type": "stream",
     "text": [
      "0.0023285720302941466 60 12 0.01\n",
      "Best MAP@12 found. Updating: {'factors': 60, 'iterations': 12, 'regularization': 0.01}\n"
     ]
    },
    {
     "data": {
      "application/vnd.jupyter.widget-view+json": {
       "model_id": "17a1c77c5b0a433facc79b57958dc8a4",
       "version_major": 2,
       "version_minor": 0
      },
      "text/plain": [
       "  0%|          | 0/14 [00:00<?, ?it/s]"
      ]
     },
     "metadata": {},
     "output_type": "display_data"
    },
    {
     "ename": "KeyboardInterrupt",
     "evalue": "",
     "output_type": "error",
     "traceback": [
      "\u001b[0;31m---------------------------------------------------------------------------\u001b[0m",
      "\u001b[0;31mKeyboardInterrupt\u001b[0m                         Traceback (most recent call last)",
      "Cell \u001b[0;32mIn[59], line 6\u001b[0m\n\u001b[1;32m      4\u001b[0m \u001b[38;5;28;01mfor\u001b[39;00m regularization \u001b[38;5;129;01min\u001b[39;00m [\u001b[38;5;241m0.01\u001b[39m]:\n\u001b[1;32m      5\u001b[0m     model \u001b[38;5;241m=\u001b[39m AlternatingLeastSquares(factors\u001b[38;5;241m=\u001b[39mfactors, iterations\u001b[38;5;241m=\u001b[39miterations, regularization\u001b[38;5;241m=\u001b[39mregularization)\n\u001b[0;32m----> 6\u001b[0m     \u001b[43mmodel\u001b[49m\u001b[38;5;241;43m.\u001b[39;49m\u001b[43mfit\u001b[49m\u001b[43m(\u001b[49m\u001b[43ms_train\u001b[49m\u001b[43m)\u001b[49m\n\u001b[1;32m      7\u001b[0m     map12 \u001b[38;5;241m=\u001b[39m mean_average_precision_at_k(model, s_train, s_val, K\u001b[38;5;241m=\u001b[39m\u001b[38;5;241m12\u001b[39m)\n\u001b[1;32m      9\u001b[0m     \u001b[38;5;28mprint\u001b[39m(map12, factors, iterations, regularization)\n",
      "File \u001b[0;32m~/Library/Python/3.9/lib/python/site-packages/implicit/cpu/als.py:163\u001b[0m, in \u001b[0;36mAlternatingLeastSquares.fit\u001b[0;34m(self, user_items, show_progress, callback)\u001b[0m\n\u001b[1;32m    161\u001b[0m \u001b[38;5;28;01mfor\u001b[39;00m iteration \u001b[38;5;129;01min\u001b[39;00m \u001b[38;5;28mrange\u001b[39m(\u001b[38;5;28mself\u001b[39m\u001b[38;5;241m.\u001b[39miterations):\n\u001b[1;32m    162\u001b[0m     s \u001b[38;5;241m=\u001b[39m time\u001b[38;5;241m.\u001b[39mtime()\n\u001b[0;32m--> 163\u001b[0m     \u001b[43msolver\u001b[49m\u001b[43m(\u001b[49m\n\u001b[1;32m    164\u001b[0m \u001b[43m        \u001b[49m\u001b[43mCui\u001b[49m\u001b[43m,\u001b[49m\n\u001b[1;32m    165\u001b[0m \u001b[43m        \u001b[49m\u001b[38;5;28;43mself\u001b[39;49m\u001b[38;5;241;43m.\u001b[39;49m\u001b[43muser_factors\u001b[49m\u001b[43m,\u001b[49m\n\u001b[1;32m    166\u001b[0m \u001b[43m        \u001b[49m\u001b[38;5;28;43mself\u001b[39;49m\u001b[38;5;241;43m.\u001b[39;49m\u001b[43mitem_factors\u001b[49m\u001b[43m,\u001b[49m\n\u001b[1;32m    167\u001b[0m \u001b[43m        \u001b[49m\u001b[38;5;28;43mself\u001b[39;49m\u001b[38;5;241;43m.\u001b[39;49m\u001b[43mregularization\u001b[49m\u001b[43m,\u001b[49m\n\u001b[1;32m    168\u001b[0m \u001b[43m        \u001b[49m\u001b[43mnum_threads\u001b[49m\u001b[38;5;241;43m=\u001b[39;49m\u001b[38;5;28;43mself\u001b[39;49m\u001b[38;5;241;43m.\u001b[39;49m\u001b[43mnum_threads\u001b[49m\u001b[43m,\u001b[49m\n\u001b[1;32m    169\u001b[0m \u001b[43m    \u001b[49m\u001b[43m)\u001b[49m\n\u001b[1;32m    170\u001b[0m     solver(\n\u001b[1;32m    171\u001b[0m         Ciu,\n\u001b[1;32m    172\u001b[0m         \u001b[38;5;28mself\u001b[39m\u001b[38;5;241m.\u001b[39mitem_factors,\n\u001b[0;32m   (...)\u001b[0m\n\u001b[1;32m    175\u001b[0m         num_threads\u001b[38;5;241m=\u001b[39m\u001b[38;5;28mself\u001b[39m\u001b[38;5;241m.\u001b[39mnum_threads,\n\u001b[1;32m    176\u001b[0m     )\n\u001b[1;32m    177\u001b[0m     progress\u001b[38;5;241m.\u001b[39mupdate(\u001b[38;5;241m1\u001b[39m)\n",
      "\u001b[0;31mKeyboardInterrupt\u001b[0m: "
     ]
    }
   ],
   "source": [
    "# If we have the time we can do a parameter search\n",
    "best_map12 = 0\n",
    "for factors in [40, 50, 60, 100, 200, 500, 1000]:\n",
    "    for iterations in [3, 12, 14, 15, 20]:\n",
    "        for regularization in [0.01]:\n",
    "            model = AlternatingLeastSquares(factors=factors, iterations=iterations, regularization=regularization)\n",
    "            model.fit(s_train)\n",
    "            map12 = mean_average_precision_at_k(model, s_train, s_val, K=12)\n",
    "\n",
    "            print(map12, factors, iterations, regularization)\n",
    "            if map12 > best_map12:\n",
    "                best_map12 = map12\n",
    "                best_params = {'factors': factors, 'iterations': iterations, 'regularization': regularization}\n",
    "                print(f\"Best MAP@12 found. Updating: {best_params}\")"
   ]
  },
  {
   "cell_type": "code",
   "execution_count": 121,
   "id": "6ae0705a",
   "metadata": {
    "execution": {
     "iopub.execute_input": "2022-10-30T12:39:48.900834Z",
     "iopub.status.busy": "2022-10-30T12:39:48.900375Z",
     "iopub.status.idle": "2022-10-30T12:39:48.912539Z",
     "shell.execute_reply": "2022-10-30T12:39:48.911731Z"
    },
    "papermill": {
     "duration": 0.024672,
     "end_time": "2022-10-30T12:39:48.915209",
     "exception": false,
     "start_time": "2022-10-30T12:39:48.890537",
     "status": "completed"
    },
    "tags": []
   },
   "outputs": [],
   "source": [
    "def submit(model, csr_train, submission_name=\"submissions.csv\"):\n",
    "    preds = []\n",
    "    batch_size = 2000\n",
    "    to_generate = np.arange(len(USERS))\n",
    "    for startidx in range(0, len(to_generate), batch_size):\n",
    "        batch = to_generate[startidx : startidx + batch_size]\n",
    "        ids, scores = model.recommend(batch, csr_train[batch], N=12, filter_already_liked_items=True)\n",
    "        for i, userid in enumerate(batch):\n",
    "            customer_id = USER_IDS[userid]\n",
    "            user_items = ids[i]\n",
    "            article_ids = [ITEM_IDS[item_id] for item_id in user_items]\n",
    "            preds.append((customer_id, ' '.join(article_ids), scores[i]))\n",
    "\n",
    "    df_preds = pd.DataFrame(preds, columns=['customer_id', 'prediction', 'scores'])\n",
    "    df_preds.to_csv(submission_name, index=False)\n",
    "    \n",
    "    display(df_preds.head())\n",
    "    print(df_preds.shape)\n",
    "    \n",
    "    return df_preds"
   ]
  },
  {
   "cell_type": "code",
   "execution_count": 122,
   "id": "18f7afa4",
   "metadata": {
    "execution": {
     "iopub.execute_input": "2022-10-30T12:39:48.934010Z",
     "iopub.status.busy": "2022-10-30T12:39:48.933564Z",
     "iopub.status.idle": "2022-10-30T12:40:13.666221Z",
     "shell.execute_reply": "2022-10-30T12:40:13.665174Z"
    },
    "papermill": {
     "duration": 24.74519,
     "end_time": "2022-10-30T12:40:13.669159",
     "exception": false,
     "start_time": "2022-10-30T12:39:48.923969",
     "status": "completed"
    },
    "tags": []
   },
   "outputs": [
    {
     "data": {
      "text/html": [
       "<div>\n",
       "<style scoped>\n",
       "    .dataframe tbody tr th:only-of-type {\n",
       "        vertical-align: middle;\n",
       "    }\n",
       "\n",
       "    .dataframe tbody tr th {\n",
       "        vertical-align: top;\n",
       "    }\n",
       "\n",
       "    .dataframe thead th {\n",
       "        text-align: right;\n",
       "    }\n",
       "</style>\n",
       "<table border=\"1\" class=\"dataframe\">\n",
       "  <thead>\n",
       "    <tr style=\"text-align: right;\">\n",
       "      <th></th>\n",
       "      <th>customer_id</th>\n",
       "      <th>prediction</th>\n",
       "      <th>scores</th>\n",
       "    </tr>\n",
       "  </thead>\n",
       "  <tbody>\n",
       "    <tr>\n",
       "      <th>0</th>\n",
       "      <td>0</td>\n",
       "      <td>0918525001 0909371001 0706016003 0889550002 04...</td>\n",
       "      <td>[0.042417042, 0.042009294, 0.02727838, 0.02633...</td>\n",
       "    </tr>\n",
       "    <tr>\n",
       "      <th>1</th>\n",
       "      <td>1</td>\n",
       "      <td>0857163001 0158340001 0919273002 0863646001 08...</td>\n",
       "      <td>[0.021883525, 0.021758948, 0.017639263, 0.0149...</td>\n",
       "    </tr>\n",
       "    <tr>\n",
       "      <th>2</th>\n",
       "      <td>2</td>\n",
       "      <td>0865799006 0898713001 0863583001 0896169002 09...</td>\n",
       "      <td>[0.12547427, 0.10886144, 0.10778493, 0.1058113...</td>\n",
       "    </tr>\n",
       "    <tr>\n",
       "      <th>3</th>\n",
       "      <td>3</td>\n",
       "      <td>0870328003 0898573003 0909371001 0902388001 08...</td>\n",
       "      <td>[0.018557673, 0.012407387, 0.011843513, 0.0114...</td>\n",
       "    </tr>\n",
       "    <tr>\n",
       "      <th>4</th>\n",
       "      <td>4</td>\n",
       "      <td>0910601002 0751592001 0915526002 0917447002 09...</td>\n",
       "      <td>[0.021416845, 0.015621647, 0.0109662, 0.010435...</td>\n",
       "    </tr>\n",
       "  </tbody>\n",
       "</table>\n",
       "</div>"
      ],
      "text/plain": [
       "   customer_id                                         prediction  \\\n",
       "0            0  0918525001 0909371001 0706016003 0889550002 04...   \n",
       "1            1  0857163001 0158340001 0919273002 0863646001 08...   \n",
       "2            2  0865799006 0898713001 0863583001 0896169002 09...   \n",
       "3            3  0870328003 0898573003 0909371001 0902388001 08...   \n",
       "4            4  0910601002 0751592001 0915526002 0917447002 09...   \n",
       "\n",
       "                                              scores  \n",
       "0  [0.042417042, 0.042009294, 0.02727838, 0.02633...  \n",
       "1  [0.021883525, 0.021758948, 0.017639263, 0.0149...  \n",
       "2  [0.12547427, 0.10886144, 0.10778493, 0.1058113...  \n",
       "3  [0.018557673, 0.012407387, 0.011843513, 0.0114...  \n",
       "4  [0.021416845, 0.015621647, 0.0109662, 0.010435...  "
      ]
     },
     "metadata": {},
     "output_type": "display_data"
    },
    {
     "name": "stdout",
     "output_type": "stream",
     "text": [
      "(101147, 3)\n"
     ]
    }
   ],
   "source": [
    "df_preds = submit(model, s_train)"
   ]
  },
  {
   "cell_type": "code",
   "execution_count": null,
   "id": "679ad4f3",
   "metadata": {},
   "outputs": [],
   "source": []
  },
  {
   "cell_type": "code",
   "execution_count": 124,
   "id": "1471cf7a",
   "metadata": {
    "execution": {
     "iopub.execute_input": "2022-10-30T12:40:13.684660Z",
     "iopub.status.busy": "2022-10-30T12:40:13.683737Z",
     "iopub.status.idle": "2022-10-30T12:40:13.695595Z",
     "shell.execute_reply": "2022-10-30T12:40:13.694715Z"
    },
    "papermill": {
     "duration": 0.021048,
     "end_time": "2022-10-30T12:40:13.697558",
     "exception": false,
     "start_time": "2022-10-30T12:40:13.676510",
     "status": "completed"
    },
    "tags": []
   },
   "outputs": [
    {
     "name": "stdout",
     "output_type": "stream",
     "text": [
      "1025\n",
      "['0897108001', '0790368006', '0905492001', '0919829001', '0807882001', '0822115004', '0904584002', '0897189002', '0946387001', '0923340001']\n",
      "['0923340002', '0942187001', '0881942001', '0857163001', '0711053003', '0894780001', '0803757004', '0929275001', '0910601003', '0931769001', '0806388001', '0923037001']\n",
      "[0.12966013 0.08276729 0.08248056 0.08058612 0.08053263 0.07302035\n",
      " 0.07193971 0.07045572 0.06553063 0.06474035 0.06264269 0.0581349 ]\n"
     ]
    }
   ],
   "source": [
    "\"\"\"\n",
    "Let's check recommendations for the customer.\n",
    "First take the customer_id and then acquire what he has bought in the past\n",
    "Starting from the products purchased in the past, the model suggests 10 items sorted by decreasing score (where the first is the most recommended)\n",
    "\"\"\"\n",
    "ID = 1025\n",
    "customer_ID = df_preds.customer_id[ID]\n",
    "items_bought = tx.loc[tx['customer_id'] == customer_ID].article_id.unique().tolist()\n",
    "items_suggested = df_preds.prediction[ID].split()\n",
    "scores = df_preds.scores[ID]\n",
    "\n",
    "print(customer_ID)\n",
    "print(items_bought)\n",
    "print(items_suggested)\n",
    "print(scores)"
   ]
  },
  {
   "cell_type": "code",
   "execution_count": 128,
   "id": "90ce5828",
   "metadata": {},
   "outputs": [
    {
     "data": {
      "text/html": [
       "<div>\n",
       "<style scoped>\n",
       "    .dataframe tbody tr th:only-of-type {\n",
       "        vertical-align: middle;\n",
       "    }\n",
       "\n",
       "    .dataframe tbody tr th {\n",
       "        vertical-align: top;\n",
       "    }\n",
       "\n",
       "    .dataframe thead th {\n",
       "        text-align: right;\n",
       "    }\n",
       "</style>\n",
       "<table border=\"1\" class=\"dataframe\">\n",
       "  <thead>\n",
       "    <tr style=\"text-align: right;\">\n",
       "      <th></th>\n",
       "      <th>article_id</th>\n",
       "      <th>product_code</th>\n",
       "      <th>prod_name</th>\n",
       "      <th>product_type_no</th>\n",
       "      <th>product_type_name</th>\n",
       "      <th>product_group_name</th>\n",
       "      <th>graphical_appearance_no</th>\n",
       "      <th>graphical_appearance_name</th>\n",
       "      <th>colour_group_code</th>\n",
       "      <th>colour_group_name</th>\n",
       "      <th>...</th>\n",
       "      <th>department_name</th>\n",
       "      <th>index_code</th>\n",
       "      <th>index_name</th>\n",
       "      <th>index_group_no</th>\n",
       "      <th>index_group_name</th>\n",
       "      <th>section_no</th>\n",
       "      <th>section_name</th>\n",
       "      <th>garment_group_no</th>\n",
       "      <th>garment_group_name</th>\n",
       "      <th>detail_desc</th>\n",
       "    </tr>\n",
       "  </thead>\n",
       "  <tbody>\n",
       "    <tr>\n",
       "      <th>92270</th>\n",
       "      <td>853097001</td>\n",
       "      <td>853097</td>\n",
       "      <td>Patricia cotton blouse</td>\n",
       "      <td>258</td>\n",
       "      <td>Blouse</td>\n",
       "      <td>Garment Upper body</td>\n",
       "      <td>1010016</td>\n",
       "      <td>Solid</td>\n",
       "      <td>10</td>\n",
       "      <td>White</td>\n",
       "      <td>...</td>\n",
       "      <td>Blouse</td>\n",
       "      <td>A</td>\n",
       "      <td>Ladieswear</td>\n",
       "      <td>1</td>\n",
       "      <td>Ladieswear</td>\n",
       "      <td>6</td>\n",
       "      <td>Womens Casual</td>\n",
       "      <td>1010</td>\n",
       "      <td>Blouses</td>\n",
       "      <td>Longer-style blouse in airy cotton poplin with...</td>\n",
       "    </tr>\n",
       "  </tbody>\n",
       "</table>\n",
       "<p>1 rows × 25 columns</p>\n",
       "</div>"
      ],
      "text/plain": [
       "       article_id  product_code               prod_name  product_type_no  \\\n",
       "92270   853097001        853097  Patricia cotton blouse              258   \n",
       "\n",
       "      product_type_name  product_group_name  graphical_appearance_no  \\\n",
       "92270            Blouse  Garment Upper body                  1010016   \n",
       "\n",
       "      graphical_appearance_name  colour_group_code colour_group_name  ...  \\\n",
       "92270                     Solid                 10             White  ...   \n",
       "\n",
       "       department_name index_code  index_name index_group_no  \\\n",
       "92270           Blouse          A  Ladieswear              1   \n",
       "\n",
       "       index_group_name section_no   section_name garment_group_no  \\\n",
       "92270        Ladieswear          6  Womens Casual             1010   \n",
       "\n",
       "       garment_group_name                                        detail_desc  \n",
       "92270             Blouses  Longer-style blouse in airy cotton poplin with...  \n",
       "\n",
       "[1 rows x 25 columns]"
      ]
     },
     "execution_count": 128,
     "metadata": {},
     "output_type": "execute_result"
    }
   ],
   "source": [
    "article_df.loc[article_df['article_id'] == 853097001]\n",
    "\n"
   ]
  },
  {
   "cell_type": "code",
   "execution_count": 129,
   "id": "51af312a",
   "metadata": {},
   "outputs": [
    {
     "data": {
      "text/html": [
       "<div>\n",
       "<style scoped>\n",
       "    .dataframe tbody tr th:only-of-type {\n",
       "        vertical-align: middle;\n",
       "    }\n",
       "\n",
       "    .dataframe tbody tr th {\n",
       "        vertical-align: top;\n",
       "    }\n",
       "\n",
       "    .dataframe thead th {\n",
       "        text-align: right;\n",
       "    }\n",
       "</style>\n",
       "<table border=\"1\" class=\"dataframe\">\n",
       "  <thead>\n",
       "    <tr style=\"text-align: right;\">\n",
       "      <th></th>\n",
       "      <th>article_id</th>\n",
       "      <th>product_code</th>\n",
       "      <th>prod_name</th>\n",
       "      <th>product_type_no</th>\n",
       "      <th>product_type_name</th>\n",
       "      <th>product_group_name</th>\n",
       "      <th>graphical_appearance_no</th>\n",
       "      <th>graphical_appearance_name</th>\n",
       "      <th>colour_group_code</th>\n",
       "      <th>colour_group_name</th>\n",
       "      <th>...</th>\n",
       "      <th>department_name</th>\n",
       "      <th>index_code</th>\n",
       "      <th>index_name</th>\n",
       "      <th>index_group_no</th>\n",
       "      <th>index_group_name</th>\n",
       "      <th>section_no</th>\n",
       "      <th>section_name</th>\n",
       "      <th>garment_group_no</th>\n",
       "      <th>garment_group_name</th>\n",
       "      <th>detail_desc</th>\n",
       "    </tr>\n",
       "  </thead>\n",
       "  <tbody>\n",
       "    <tr>\n",
       "      <th>104467</th>\n",
       "      <td>923340002</td>\n",
       "      <td>923340</td>\n",
       "      <td>Lion top</td>\n",
       "      <td>254</td>\n",
       "      <td>Top</td>\n",
       "      <td>Garment Upper body</td>\n",
       "      <td>1010016</td>\n",
       "      <td>Solid</td>\n",
       "      <td>10</td>\n",
       "      <td>White</td>\n",
       "      <td>...</td>\n",
       "      <td>Jersey fancy</td>\n",
       "      <td>A</td>\n",
       "      <td>Ladieswear</td>\n",
       "      <td>1</td>\n",
       "      <td>Ladieswear</td>\n",
       "      <td>15</td>\n",
       "      <td>Womens Everyday Collection</td>\n",
       "      <td>1005</td>\n",
       "      <td>Jersey Fancy</td>\n",
       "      <td>Fitted top in jersey with an asymmetric neckli...</td>\n",
       "    </tr>\n",
       "  </tbody>\n",
       "</table>\n",
       "<p>1 rows × 25 columns</p>\n",
       "</div>"
      ],
      "text/plain": [
       "        article_id  product_code prod_name  product_type_no product_type_name  \\\n",
       "104467   923340002        923340  Lion top              254               Top   \n",
       "\n",
       "        product_group_name  graphical_appearance_no graphical_appearance_name  \\\n",
       "104467  Garment Upper body                  1010016                     Solid   \n",
       "\n",
       "        colour_group_code colour_group_name  ...  department_name index_code  \\\n",
       "104467                 10             White  ...     Jersey fancy          A   \n",
       "\n",
       "        index_name index_group_no  index_group_name section_no  \\\n",
       "104467  Ladieswear              1        Ladieswear         15   \n",
       "\n",
       "                      section_name garment_group_no  garment_group_name  \\\n",
       "104467  Womens Everyday Collection             1005        Jersey Fancy   \n",
       "\n",
       "                                              detail_desc  \n",
       "104467  Fitted top in jersey with an asymmetric neckli...  \n",
       "\n",
       "[1 rows x 25 columns]"
      ]
     },
     "execution_count": 129,
     "metadata": {},
     "output_type": "execute_result"
    }
   ],
   "source": [
    "article_df.loc[article_df['article_id'] == 923340002]\n"
   ]
  }
 ],
 "metadata": {
  "kernelspec": {
   "display_name": "Python 3",
   "language": "python",
   "name": "python3"
  },
  "language_info": {
   "codemirror_mode": {
    "name": "ipython",
    "version": 3
   },
   "file_extension": ".py",
   "mimetype": "text/x-python",
   "name": "python",
   "nbconvert_exporter": "python",
   "pygments_lexer": "ipython3",
   "version": "3.9.6"
  },
  "papermill": {
   "default_parameters": {},
   "duration": 168.012779,
   "end_time": "2022-10-30T12:40:24.974497",
   "environment_variables": {},
   "exception": null,
   "input_path": "__notebook__.ipynb",
   "output_path": "__notebook__.ipynb",
   "parameters": {},
   "start_time": "2022-10-30T12:37:36.961718",
   "version": "2.3.4"
  },
  "widgets": {
   "application/vnd.jupyter.widget-state+json": {
    "state": {
     "113a5b7fceac47f3957722704fde087b": {
      "model_module": "@jupyter-widgets/controls",
      "model_module_version": "1.5.0",
      "model_name": "HTMLModel",
      "state": {
       "_dom_classes": [],
       "_model_module": "@jupyter-widgets/controls",
       "_model_module_version": "1.5.0",
       "_model_name": "HTMLModel",
       "_view_count": null,
       "_view_module": "@jupyter-widgets/controls",
       "_view_module_version": "1.5.0",
       "_view_name": "HTMLView",
       "description": "",
       "description_tooltip": null,
       "layout": "IPY_MODEL_a7f21a7f95dc446296bd059f3eba620f",
       "placeholder": "​",
       "style": "IPY_MODEL_236775a508ff469cb40a74dae11709d9",
       "value": " 12/12 [00:06&lt;00:00,  1.98it/s]"
      }
     },
     "1a499783185a4b3680763bc01736b37e": {
      "model_module": "@jupyter-widgets/controls",
      "model_module_version": "1.5.0",
      "model_name": "HTMLModel",
      "state": {
       "_dom_classes": [],
       "_model_module": "@jupyter-widgets/controls",
       "_model_module_version": "1.5.0",
       "_model_name": "HTMLModel",
       "_view_count": null,
       "_view_module": "@jupyter-widgets/controls",
       "_view_module_version": "1.5.0",
       "_view_name": "HTMLView",
       "description": "",
       "description_tooltip": null,
       "layout": "IPY_MODEL_3438a69b007e48ffbcd08c7cd7903773",
       "placeholder": "​",
       "style": "IPY_MODEL_97b581b9e6914377885a82c1bf68b5f6",
       "value": "100%"
      }
     },
     "236775a508ff469cb40a74dae11709d9": {
      "model_module": "@jupyter-widgets/controls",
      "model_module_version": "1.5.0",
      "model_name": "DescriptionStyleModel",
      "state": {
       "_model_module": "@jupyter-widgets/controls",
       "_model_module_version": "1.5.0",
       "_model_name": "DescriptionStyleModel",
       "_view_count": null,
       "_view_module": "@jupyter-widgets/base",
       "_view_module_version": "1.2.0",
       "_view_name": "StyleView",
       "description_width": ""
      }
     },
     "3438a69b007e48ffbcd08c7cd7903773": {
      "model_module": "@jupyter-widgets/base",
      "model_module_version": "1.2.0",
      "model_name": "LayoutModel",
      "state": {
       "_model_module": "@jupyter-widgets/base",
       "_model_module_version": "1.2.0",
       "_model_name": "LayoutModel",
       "_view_count": null,
       "_view_module": "@jupyter-widgets/base",
       "_view_module_version": "1.2.0",
       "_view_name": "LayoutView",
       "align_content": null,
       "align_items": null,
       "align_self": null,
       "border": null,
       "bottom": null,
       "display": null,
       "flex": null,
       "flex_flow": null,
       "grid_area": null,
       "grid_auto_columns": null,
       "grid_auto_flow": null,
       "grid_auto_rows": null,
       "grid_column": null,
       "grid_gap": null,
       "grid_row": null,
       "grid_template_areas": null,
       "grid_template_columns": null,
       "grid_template_rows": null,
       "height": null,
       "justify_content": null,
       "justify_items": null,
       "left": null,
       "margin": null,
       "max_height": null,
       "max_width": null,
       "min_height": null,
       "min_width": null,
       "object_fit": null,
       "object_position": null,
       "order": null,
       "overflow": null,
       "overflow_x": null,
       "overflow_y": null,
       "padding": null,
       "right": null,
       "top": null,
       "visibility": null,
       "width": null
      }
     },
     "88c7757d642b42adbd330d942ff3e3ad": {
      "model_module": "@jupyter-widgets/controls",
      "model_module_version": "1.5.0",
      "model_name": "FloatProgressModel",
      "state": {
       "_dom_classes": [],
       "_model_module": "@jupyter-widgets/controls",
       "_model_module_version": "1.5.0",
       "_model_name": "FloatProgressModel",
       "_view_count": null,
       "_view_module": "@jupyter-widgets/controls",
       "_view_module_version": "1.5.0",
       "_view_name": "ProgressView",
       "bar_style": "success",
       "description": "",
       "description_tooltip": null,
       "layout": "IPY_MODEL_bc9ff3290b634ea7afd3d16568a81ee7",
       "max": 12,
       "min": 0,
       "orientation": "horizontal",
       "style": "IPY_MODEL_c661551c1a9647d198143b8437fcc8c1",
       "value": 12
      }
     },
     "9432e0e80b5b4693958743daa389f688": {
      "model_module": "@jupyter-widgets/controls",
      "model_module_version": "1.5.0",
      "model_name": "HBoxModel",
      "state": {
       "_dom_classes": [],
       "_model_module": "@jupyter-widgets/controls",
       "_model_module_version": "1.5.0",
       "_model_name": "HBoxModel",
       "_view_count": null,
       "_view_module": "@jupyter-widgets/controls",
       "_view_module_version": "1.5.0",
       "_view_name": "HBoxView",
       "box_style": "",
       "children": [
        "IPY_MODEL_1a499783185a4b3680763bc01736b37e",
        "IPY_MODEL_88c7757d642b42adbd330d942ff3e3ad",
        "IPY_MODEL_113a5b7fceac47f3957722704fde087b"
       ],
       "layout": "IPY_MODEL_9e548a97a3e64720acbe8bdeab7cc22e"
      }
     },
     "97b581b9e6914377885a82c1bf68b5f6": {
      "model_module": "@jupyter-widgets/controls",
      "model_module_version": "1.5.0",
      "model_name": "DescriptionStyleModel",
      "state": {
       "_model_module": "@jupyter-widgets/controls",
       "_model_module_version": "1.5.0",
       "_model_name": "DescriptionStyleModel",
       "_view_count": null,
       "_view_module": "@jupyter-widgets/base",
       "_view_module_version": "1.2.0",
       "_view_name": "StyleView",
       "description_width": ""
      }
     },
     "9e548a97a3e64720acbe8bdeab7cc22e": {
      "model_module": "@jupyter-widgets/base",
      "model_module_version": "1.2.0",
      "model_name": "LayoutModel",
      "state": {
       "_model_module": "@jupyter-widgets/base",
       "_model_module_version": "1.2.0",
       "_model_name": "LayoutModel",
       "_view_count": null,
       "_view_module": "@jupyter-widgets/base",
       "_view_module_version": "1.2.0",
       "_view_name": "LayoutView",
       "align_content": null,
       "align_items": null,
       "align_self": null,
       "border": null,
       "bottom": null,
       "display": null,
       "flex": null,
       "flex_flow": null,
       "grid_area": null,
       "grid_auto_columns": null,
       "grid_auto_flow": null,
       "grid_auto_rows": null,
       "grid_column": null,
       "grid_gap": null,
       "grid_row": null,
       "grid_template_areas": null,
       "grid_template_columns": null,
       "grid_template_rows": null,
       "height": null,
       "justify_content": null,
       "justify_items": null,
       "left": null,
       "margin": null,
       "max_height": null,
       "max_width": null,
       "min_height": null,
       "min_width": null,
       "object_fit": null,
       "object_position": null,
       "order": null,
       "overflow": null,
       "overflow_x": null,
       "overflow_y": null,
       "padding": null,
       "right": null,
       "top": null,
       "visibility": null,
       "width": null
      }
     },
     "a7f21a7f95dc446296bd059f3eba620f": {
      "model_module": "@jupyter-widgets/base",
      "model_module_version": "1.2.0",
      "model_name": "LayoutModel",
      "state": {
       "_model_module": "@jupyter-widgets/base",
       "_model_module_version": "1.2.0",
       "_model_name": "LayoutModel",
       "_view_count": null,
       "_view_module": "@jupyter-widgets/base",
       "_view_module_version": "1.2.0",
       "_view_name": "LayoutView",
       "align_content": null,
       "align_items": null,
       "align_self": null,
       "border": null,
       "bottom": null,
       "display": null,
       "flex": null,
       "flex_flow": null,
       "grid_area": null,
       "grid_auto_columns": null,
       "grid_auto_flow": null,
       "grid_auto_rows": null,
       "grid_column": null,
       "grid_gap": null,
       "grid_row": null,
       "grid_template_areas": null,
       "grid_template_columns": null,
       "grid_template_rows": null,
       "height": null,
       "justify_content": null,
       "justify_items": null,
       "left": null,
       "margin": null,
       "max_height": null,
       "max_width": null,
       "min_height": null,
       "min_width": null,
       "object_fit": null,
       "object_position": null,
       "order": null,
       "overflow": null,
       "overflow_x": null,
       "overflow_y": null,
       "padding": null,
       "right": null,
       "top": null,
       "visibility": null,
       "width": null
      }
     },
     "bc9ff3290b634ea7afd3d16568a81ee7": {
      "model_module": "@jupyter-widgets/base",
      "model_module_version": "1.2.0",
      "model_name": "LayoutModel",
      "state": {
       "_model_module": "@jupyter-widgets/base",
       "_model_module_version": "1.2.0",
       "_model_name": "LayoutModel",
       "_view_count": null,
       "_view_module": "@jupyter-widgets/base",
       "_view_module_version": "1.2.0",
       "_view_name": "LayoutView",
       "align_content": null,
       "align_items": null,
       "align_self": null,
       "border": null,
       "bottom": null,
       "display": null,
       "flex": null,
       "flex_flow": null,
       "grid_area": null,
       "grid_auto_columns": null,
       "grid_auto_flow": null,
       "grid_auto_rows": null,
       "grid_column": null,
       "grid_gap": null,
       "grid_row": null,
       "grid_template_areas": null,
       "grid_template_columns": null,
       "grid_template_rows": null,
       "height": null,
       "justify_content": null,
       "justify_items": null,
       "left": null,
       "margin": null,
       "max_height": null,
       "max_width": null,
       "min_height": null,
       "min_width": null,
       "object_fit": null,
       "object_position": null,
       "order": null,
       "overflow": null,
       "overflow_x": null,
       "overflow_y": null,
       "padding": null,
       "right": null,
       "top": null,
       "visibility": null,
       "width": null
      }
     },
     "c661551c1a9647d198143b8437fcc8c1": {
      "model_module": "@jupyter-widgets/controls",
      "model_module_version": "1.5.0",
      "model_name": "ProgressStyleModel",
      "state": {
       "_model_module": "@jupyter-widgets/controls",
       "_model_module_version": "1.5.0",
       "_model_name": "ProgressStyleModel",
       "_view_count": null,
       "_view_module": "@jupyter-widgets/base",
       "_view_module_version": "1.2.0",
       "_view_name": "StyleView",
       "bar_color": null,
       "description_width": ""
      }
     }
    },
    "version_major": 2,
    "version_minor": 0
   }
  }
 },
 "nbformat": 4,
 "nbformat_minor": 5
}
