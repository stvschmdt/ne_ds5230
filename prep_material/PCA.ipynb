{
 "cells": [
  {
   "cell_type": "code",
   "execution_count": 5,
   "id": "4b755930-c666-4ae8-a16c-e088202e7e2d",
   "metadata": {},
   "outputs": [],
   "source": [
    "#imports\n",
    "#only relevant imports - remember nothing we have not covered yet"
   ]
  },
  {
   "cell_type": "code",
   "execution_count": 6,
   "id": "8f65a0d1-6405-4b2e-83d9-3a9e818b667b",
   "metadata": {},
   "outputs": [],
   "source": [
    "#read in data"
   ]
  },
  {
   "cell_type": "code",
   "execution_count": 7,
   "id": "e7e7f039-f965-493f-94d2-b231249035af",
   "metadata": {},
   "outputs": [],
   "source": [
    "#data light EDA\n",
    "#what is in it, call outs, head/describe"
   ]
  },
  {
   "cell_type": "code",
   "execution_count": 8,
   "id": "34468593-79bb-4c2a-b084-bc5b51ccf2b3",
   "metadata": {},
   "outputs": [],
   "source": [
    "#some statement of problem we are looking at"
   ]
  },
  {
   "cell_type": "code",
   "execution_count": 9,
   "id": "a24d0f17-fb13-4e24-af9a-297cef1a5b41",
   "metadata": {},
   "outputs": [],
   "source": [
    "#cluster off numerical fields"
   ]
  },
  {
   "cell_type": "code",
   "execution_count": 10,
   "id": "8d9f853f-f1be-4cff-9c5a-0d2f1ee1b250",
   "metadata": {},
   "outputs": [],
   "source": [
    "#for loop k=2-?"
   ]
  },
  {
   "cell_type": "code",
   "execution_count": 11,
   "id": "57f5ad54-f5d3-441f-871d-1d64dfe1df3b",
   "metadata": {},
   "outputs": [],
   "source": [
    "#elbow graph"
   ]
  },
  {
   "cell_type": "code",
   "execution_count": 12,
   "id": "347a9046-7d28-4829-b270-00995e5e596f",
   "metadata": {},
   "outputs": [],
   "source": [
    "#append cluster labels to original df"
   ]
  },
  {
   "cell_type": "code",
   "execution_count": 13,
   "id": "1ad1c78f-f9ce-474a-8bbf-3375874f0f2a",
   "metadata": {},
   "outputs": [],
   "source": [
    "#some scatter plot colored by cluster label"
   ]
  },
  {
   "cell_type": "code",
   "execution_count": 14,
   "id": "1ff03e6c-833b-46a0-9790-e8c08f975525",
   "metadata": {},
   "outputs": [],
   "source": [
    "### now we are looking at what to do with PCA"
   ]
  },
  {
   "cell_type": "markdown",
   "id": "b70bbc3a-6e1f-4a5f-8687-cd6b91e1ffd9",
   "metadata": {},
   "source": [
    "## PCA "
   ]
  },
  {
   "cell_type": "code",
   "execution_count": 15,
   "id": "285831ed-99a7-4616-bb1c-11961cc8ed1e",
   "metadata": {},
   "outputs": [],
   "source": [
    "#pca on numerical data"
   ]
  },
  {
   "cell_type": "code",
   "execution_count": 16,
   "id": "401f78a5-f551-4b9f-b23a-63ab91ada9fa",
   "metadata": {},
   "outputs": [],
   "source": [
    "#plot explained variance graph"
   ]
  },
  {
   "cell_type": "code",
   "execution_count": 17,
   "id": "607900cd-3032-404c-9e74-229db27c6a25",
   "metadata": {},
   "outputs": [],
   "source": [
    "#choose num_components (85% explained ish)"
   ]
  },
  {
   "cell_type": "code",
   "execution_count": 18,
   "id": "155a1763-6902-46ff-be2f-8280f75ef91a",
   "metadata": {},
   "outputs": [],
   "source": [
    "#cluster on pca embeddings"
   ]
  },
  {
   "cell_type": "code",
   "execution_count": 19,
   "id": "4dd62e53-acfc-47c3-be83-848a9702153f",
   "metadata": {},
   "outputs": [],
   "source": [
    "#show same scatter plot as above colored by these new clusters"
   ]
  },
  {
   "cell_type": "code",
   "execution_count": 20,
   "id": "d1cb27de-b478-4645-aecf-422f8c6be35c",
   "metadata": {},
   "outputs": [],
   "source": [
    "#show scatter plot of pc1, pc2"
   ]
  },
  {
   "cell_type": "code",
   "execution_count": 21,
   "id": "db0328e4-fff6-4a62-93ff-a3d6c408c12e",
   "metadata": {},
   "outputs": [],
   "source": [
    "#show scatter plot of pc1, pc2, pc3"
   ]
  },
  {
   "cell_type": "markdown",
   "id": "9444f9f7-83ec-4f40-bad5-0ba984bd9e22",
   "metadata": {},
   "source": [
    "## PCA after scaling"
   ]
  },
  {
   "cell_type": "code",
   "execution_count": null,
   "id": "2ecd3b0d-e016-4bff-b1a4-33358b622c8d",
   "metadata": {},
   "outputs": [],
   "source": [
    "#repeat PCA after scaling data"
   ]
  },
  {
   "cell_type": "code",
   "execution_count": 23,
   "id": "a9b275a0-fe70-4931-9b29-50c19b5e16f2",
   "metadata": {},
   "outputs": [],
   "source": [
    "#append results to original df"
   ]
  },
  {
   "cell_type": "markdown",
   "id": "474aa44d-cba9-47cb-b429-8c6789319e18",
   "metadata": {},
   "source": [
    "## Final Analysis"
   ]
  },
  {
   "cell_type": "code",
   "execution_count": 24,
   "id": "83f704a3-db0d-44c2-981b-810e9812e72b",
   "metadata": {},
   "outputs": [],
   "source": [
    "#original df should have:\n",
    "#original cluster labels\n",
    "#PCA cluster labels\n",
    "#PCA+scaled cluster labels"
   ]
  },
  {
   "cell_type": "code",
   "execution_count": 25,
   "id": "bfa011a0-b7de-4768-b4c9-383777c27a6e",
   "metadata": {},
   "outputs": [],
   "source": [
    "#light EDA of clusters on each\n",
    "#since cluster labels are not comparable\n",
    "#examine a cluster which 'stands out'\n",
    "#find this cluster in all 3 variants\n",
    "#examine which types of rows of data 'moved' in and out of this interesting cluster"
   ]
  },
  {
   "cell_type": "code",
   "execution_count": null,
   "id": "bb5b3e9f-0791-4711-a5c9-93414c293bd9",
   "metadata": {},
   "outputs": [],
   "source": []
  },
  {
   "cell_type": "code",
   "execution_count": null,
   "id": "6772ac22-4520-4ce5-a003-1bd87f8cd7f2",
   "metadata": {},
   "outputs": [],
   "source": []
  },
  {
   "cell_type": "code",
   "execution_count": null,
   "id": "32475727-bc8e-48e4-be15-ffca98fe87e5",
   "metadata": {},
   "outputs": [],
   "source": []
  },
  {
   "cell_type": "code",
   "execution_count": null,
   "id": "89414ee9-ea7b-4b86-8b04-c3470d4072cb",
   "metadata": {},
   "outputs": [],
   "source": []
  }
 ],
 "metadata": {
  "kernelspec": {
   "display_name": "Python 3 (ipykernel)",
   "language": "python",
   "name": "python3"
  },
  "language_info": {
   "codemirror_mode": {
    "name": "ipython",
    "version": 3
   },
   "file_extension": ".py",
   "mimetype": "text/x-python",
   "name": "python",
   "nbconvert_exporter": "python",
   "pygments_lexer": "ipython3",
   "version": "3.9.6"
  }
 },
 "nbformat": 4,
 "nbformat_minor": 5
}
